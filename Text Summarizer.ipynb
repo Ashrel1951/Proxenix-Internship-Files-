{
 "cells": [
  {
   "cell_type": "markdown",
   "id": "c231fcf6",
   "metadata": {},
   "source": [
    "1. Installing Libraries"
   ]
  },
  {
   "cell_type": "code",
   "execution_count": 32,
   "id": "f7fecbc6",
   "metadata": {},
   "outputs": [],
   "source": [
    "# pip install U spacy\n",
    "# python -m spacy download en_core_web_sm"
   ]
  },
  {
   "cell_type": "markdown",
   "id": "65728230",
   "metadata": {},
   "source": [
    "2. Import and Load"
   ]
  },
  {
   "cell_type": "code",
   "execution_count": 33,
   "id": "956e1ef5",
   "metadata": {},
   "outputs": [],
   "source": [
    "import spacy\n",
    "from spacy.lang.en.stop_words import STOP_WORDS\n",
    "from string import punctuation\n",
    "from heapq import nlargest\n",
    "\n",
    "stopwords = list(STOP_WORDS)\n",
    "nlp = spacy.load('en_core_web_sm')"
   ]
  },
  {
   "cell_type": "markdown",
   "id": "aea40903",
   "metadata": {},
   "source": [
    "3. Input Text"
   ]
  },
  {
   "cell_type": "code",
   "execution_count": 34,
   "id": "c8901fa5",
   "metadata": {},
   "outputs": [],
   "source": [
    "text = '''\n",
    "Maria Sharapova has basically no friends as tennis players on the WTA Tour. \n",
    "The Russian player has no problems in openly speaking about it and in a recent interview she said: \n",
    "I don’t really hide any feelings too much. I think everyone knows this is my job here. \n",
    "When I’m on the court playing, I’m a competitor and I want to beat every single person whether they’re \n",
    "in the locker room or across the net. So I’m not the one to strike up a conversation about the weather \n",
    "and know that in the next few minutes I have to go and try to win a tennis match. \n",
    "I’m a pretty competitive girl. I say my hellos, but I’m not sending any players flowers as well. \n",
    "Uhm, I’m not really friendly or close to many players. I have not a lot of friends away from the courts. \n",
    "When she said she is not really close to a lot of players, is that something strategic that she is doing? \n",
    "Is it different on the men’s tour than the women’s tour? No, not at all. \n",
    "I think just because you’re in the same sport doesn’t mean that you have to be friends with everyone \n",
    "just because you’re categorized as a tennis player. I think every person has different interests. \n",
    "I have friends that have completely different jobs and interests, and I’ve met them in very different \n",
    "parts of my life. I think everyone just thinks because we’re tennis players we should be the greatest \n",
    "of friends. But ultimately, tennis is just a very small part of what we do. \n",
    "There are so many other things that we’re interested in, that we do.\n",
    "'''"
   ]
  },
  {
   "cell_type": "markdown",
   "id": "01a3f0dc",
   "metadata": {},
   "source": [
    "4. Process the Document "
   ]
  },
  {
   "cell_type": "code",
   "execution_count": 35,
   "id": "1c3fd2bc",
   "metadata": {},
   "outputs": [],
   "source": [
    "doc = nlp(text)"
   ]
  },
  {
   "cell_type": "markdown",
   "id": "e4a1e639",
   "metadata": {},
   "source": [
    "5. Word Frequency Table"
   ]
  },
  {
   "cell_type": "code",
   "execution_count": 36,
   "id": "5bc95cfe",
   "metadata": {},
   "outputs": [],
   "source": [
    "word_frequencies = {}\n",
    "for word in doc:\n",
    "    if word.text.lower() not in stopwords and word.text.lower() not in punctuation:\n",
    "        word_lower = word.text.lower()\n",
    "        if word_lower not in word_frequencies:\n",
    "            word_frequencies[word_lower] = 1\n",
    "        else:\n",
    "            word_frequencies[word_lower] += 1"
   ]
  },
  {
   "cell_type": "markdown",
   "id": "1d7bc1a2",
   "metadata": {},
   "source": [
    "6. Normalize Frequency"
   ]
  },
  {
   "cell_type": "code",
   "execution_count": 37,
   "id": "a6fe3166",
   "metadata": {},
   "outputs": [],
   "source": [
    "max_freq = max(word_frequencies.values())\n",
    "for word in word_frequencies.keys():\n",
    "    word_frequencies[word] = word_frequencies[word] / max_freq"
   ]
  },
  {
   "cell_type": "markdown",
   "id": "b115c54f",
   "metadata": {},
   "source": [
    "7. Score Sentences"
   ]
  },
  {
   "cell_type": "code",
   "execution_count": 38,
   "id": "47e60431",
   "metadata": {},
   "outputs": [],
   "source": [
    "sentence_tokens = [sent for sent in doc.sents]\n",
    "sentence_scores = {}\n",
    "for sent in sentence_tokens:\n",
    "    for word in sent:\n",
    "        word_lower = word.text.lower()\n",
    "        if word_lower in word_frequencies:\n",
    "            if sent not in sentence_scores:\n",
    "                sentence_scores[sent] = word_frequencies[word_lower]\n",
    "            else:\n",
    "                sentence_scores[sent] += word_frequencies[word_lower]"
   ]
  },
  {
   "cell_type": "markdown",
   "id": "1fad9a67",
   "metadata": {},
   "source": [
    "8. Select top sentences"
   ]
  },
  {
   "cell_type": "code",
   "execution_count": 39,
   "id": "5aad42ea",
   "metadata": {},
   "outputs": [],
   "source": [
    "select_length = int(len(sentence_tokens) * 0.3)\n",
    "summary_sentences = nlargest(select_length, sentence_scores, key=sentence_scores.get)\n"
   ]
  },
  {
   "cell_type": "markdown",
   "id": "11d606cb",
   "metadata": {},
   "source": [
    "9. Final Summary"
   ]
  },
  {
   "cell_type": "code",
   "execution_count": 40,
   "id": "0ba8048c",
   "metadata": {},
   "outputs": [
    {
     "name": "stdout",
     "output_type": "stream",
     "text": [
      "🔎 Final Extractive Summary:\n",
      "\n",
      "Maria Sharapova has basically no friends as tennis players on the WTA Tour. So I’m not the one to strike up a conversation about the weather \n",
      "and know that in the next few minutes I have to go and try to win a tennis match. I think everyone just thinks because we’re tennis players we should be the greatest \n",
      "of friends. I have friends that have completely different jobs and interests, and I’ve met them in very different \n",
      "parts of my life. I think just because you’re in the same sport doesn’t mean that you have to be friends with everyone \n",
      "just because you’re categorized as a tennis player.\n"
     ]
    }
   ],
   "source": [
    "final_summary = ' '.join([sent.text.strip() for sent in summary_sentences])\n",
    "print(\"🔎 Final Extractive Summary:\\n\")\n",
    "print(final_summary)"
   ]
  }
 ],
 "metadata": {
  "kernelspec": {
   "display_name": "Python 3",
   "language": "python",
   "name": "python3"
  },
  "language_info": {
   "codemirror_mode": {
    "name": "ipython",
    "version": 3
   },
   "file_extension": ".py",
   "mimetype": "text/x-python",
   "name": "python",
   "nbconvert_exporter": "python",
   "pygments_lexer": "ipython3",
   "version": "3.12.10"
  }
 },
 "nbformat": 4,
 "nbformat_minor": 5
}
